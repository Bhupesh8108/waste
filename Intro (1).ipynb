{
  "metadata": {
    "kernelspec": {
      "name": "python",
      "display_name": "Python (Pyodide)",
      "language": "python"
    },
    "language_info": {
      "codemirror_mode": {
        "name": "python",
        "version": 3
      },
      "file_extension": ".py",
      "mimetype": "text/x-python",
      "name": "python",
      "nbconvert_exporter": "python",
      "pygments_lexer": "ipython3",
      "version": "3.8"
    }
  },
  "nbformat_minor": 5,
  "nbformat": 4,
  "cells": [
    {
      "id": "51545755-8eb6-493a-b031-4a7474f7a9c6",
      "cell_type": "code",
      "source": "import pandas as pd\nimport random, datetime\nbranches_list = ['0010','0020','0030','0040','0050','0060','0070']\nis_pep_list = ['hni','hne','pep','Yes','No', 'Adverse']\ndata = pd.DataFrame(columns= ['branch','ispep'])\nfor i in range(1000):\n    branch = random.choice(branches_list)\n    is_pep = random.choice(is_pep_list)\n    data.loc[len(data)] = [branch,is_pep]\ndata",
      "metadata": {
        "trusted": true
      },
      "outputs": [
        {
          "execution_count": 26,
          "output_type": "execute_result",
          "data": {
            "text/plain": "    branch    ispep\n0     0030      hni\n1     0050      hni\n2     0040  Adverse\n3     0060      pep\n4     0050      hni\n..     ...      ...\n995   0050      hni\n996   0020       No\n997   0060      hne\n998   0010      pep\n999   0060      pep\n\n[1000 rows x 2 columns]",
            "text/html": "<div>\n<style scoped>\n    .dataframe tbody tr th:only-of-type {\n        vertical-align: middle;\n    }\n\n    .dataframe tbody tr th {\n        vertical-align: top;\n    }\n\n    .dataframe thead th {\n        text-align: right;\n    }\n</style>\n<table border=\"1\" class=\"dataframe\">\n  <thead>\n    <tr style=\"text-align: right;\">\n      <th></th>\n      <th>branch</th>\n      <th>ispep</th>\n    </tr>\n  </thead>\n  <tbody>\n    <tr>\n      <th>0</th>\n      <td>0030</td>\n      <td>hni</td>\n    </tr>\n    <tr>\n      <th>1</th>\n      <td>0050</td>\n      <td>hni</td>\n    </tr>\n    <tr>\n      <th>2</th>\n      <td>0040</td>\n      <td>Adverse</td>\n    </tr>\n    <tr>\n      <th>3</th>\n      <td>0060</td>\n      <td>pep</td>\n    </tr>\n    <tr>\n      <th>4</th>\n      <td>0050</td>\n      <td>hni</td>\n    </tr>\n    <tr>\n      <th>...</th>\n      <td>...</td>\n      <td>...</td>\n    </tr>\n    <tr>\n      <th>995</th>\n      <td>0050</td>\n      <td>hni</td>\n    </tr>\n    <tr>\n      <th>996</th>\n      <td>0020</td>\n      <td>No</td>\n    </tr>\n    <tr>\n      <th>997</th>\n      <td>0060</td>\n      <td>hne</td>\n    </tr>\n    <tr>\n      <th>998</th>\n      <td>0010</td>\n      <td>pep</td>\n    </tr>\n    <tr>\n      <th>999</th>\n      <td>0060</td>\n      <td>pep</td>\n    </tr>\n  </tbody>\n</table>\n<p>1000 rows × 2 columns</p>\n</div>"
          },
          "metadata": {}
        }
      ],
      "execution_count": 26
    },
    {
      "id": "f5cd109c-2b0d-4002-9e21-c4e1607e4bdc",
      "cell_type": "code",
      "source": "data.pivot_table(index = 'branch', columns = 'ispep',aggfunc = len, margins = True, margins_name = 'subtotal').sort_values('subtotal')",
      "metadata": {
        "trusted": true
      },
      "outputs": [
        {
          "execution_count": 27,
          "output_type": "execute_result",
          "data": {
            "text/plain": "ispep     Adverse   No  Yes  hne  hni  pep  subtotal\nbranch                                              \n0060           29   22   20   13   22   25       131\n0070           16   22   24   31   19   21       133\n0050           23   23   17   29   25   19       136\n0010           25   13   26   23   19   33       139\n0040           19   23   26   22   33   25       148\n0020           32   26   28   22   26   16       150\n0030           28   34   19   24   30   28       163\nsubtotal      172  163  160  164  174  167      1000",
            "text/html": "<div>\n<style scoped>\n    .dataframe tbody tr th:only-of-type {\n        vertical-align: middle;\n    }\n\n    .dataframe tbody tr th {\n        vertical-align: top;\n    }\n\n    .dataframe thead th {\n        text-align: right;\n    }\n</style>\n<table border=\"1\" class=\"dataframe\">\n  <thead>\n    <tr style=\"text-align: right;\">\n      <th>ispep</th>\n      <th>Adverse</th>\n      <th>No</th>\n      <th>Yes</th>\n      <th>hne</th>\n      <th>hni</th>\n      <th>pep</th>\n      <th>subtotal</th>\n    </tr>\n    <tr>\n      <th>branch</th>\n      <th></th>\n      <th></th>\n      <th></th>\n      <th></th>\n      <th></th>\n      <th></th>\n      <th></th>\n    </tr>\n  </thead>\n  <tbody>\n    <tr>\n      <th>0060</th>\n      <td>29</td>\n      <td>22</td>\n      <td>20</td>\n      <td>13</td>\n      <td>22</td>\n      <td>25</td>\n      <td>131</td>\n    </tr>\n    <tr>\n      <th>0070</th>\n      <td>16</td>\n      <td>22</td>\n      <td>24</td>\n      <td>31</td>\n      <td>19</td>\n      <td>21</td>\n      <td>133</td>\n    </tr>\n    <tr>\n      <th>0050</th>\n      <td>23</td>\n      <td>23</td>\n      <td>17</td>\n      <td>29</td>\n      <td>25</td>\n      <td>19</td>\n      <td>136</td>\n    </tr>\n    <tr>\n      <th>0010</th>\n      <td>25</td>\n      <td>13</td>\n      <td>26</td>\n      <td>23</td>\n      <td>19</td>\n      <td>33</td>\n      <td>139</td>\n    </tr>\n    <tr>\n      <th>0040</th>\n      <td>19</td>\n      <td>23</td>\n      <td>26</td>\n      <td>22</td>\n      <td>33</td>\n      <td>25</td>\n      <td>148</td>\n    </tr>\n    <tr>\n      <th>0020</th>\n      <td>32</td>\n      <td>26</td>\n      <td>28</td>\n      <td>22</td>\n      <td>26</td>\n      <td>16</td>\n      <td>150</td>\n    </tr>\n    <tr>\n      <th>0030</th>\n      <td>28</td>\n      <td>34</td>\n      <td>19</td>\n      <td>24</td>\n      <td>30</td>\n      <td>28</td>\n      <td>163</td>\n    </tr>\n    <tr>\n      <th>subtotal</th>\n      <td>172</td>\n      <td>163</td>\n      <td>160</td>\n      <td>164</td>\n      <td>174</td>\n      <td>167</td>\n      <td>1000</td>\n    </tr>\n  </tbody>\n</table>\n</div>"
          },
          "metadata": {}
        }
      ],
      "execution_count": 27
    },
    {
      "id": "39cc4da2-fb9a-4b30-af2b-d5ac4ed64595",
      "cell_type": "code",
      "source": "branches_list = ['0010','0020','0030','0040','0050','0060','0070']\nrisk_category = ['a','b','c']\nstart_date, end_date = datetime.date(2015,1,1), datetime.date(2025,1,1)\ndata = pd.DataFrame(columns= ['branch','risk','review_date'])\nfor i in range(1000):\n    branch = random.choice(branches_list)\n    risk = random.choice(risk_category)\n    review_date = start_date + datetime.timedelta(days=random.randint(0, (end_date - start_date).days))\n    data.loc[len(data)] = [branch, risk, review_date]\ndata",
      "metadata": {
        "trusted": true
      },
      "outputs": [
        {
          "execution_count": 28,
          "output_type": "execute_result",
          "data": {
            "text/plain": "    branch risk review_date\n0     0070    a  2015-08-14\n1     0070    b  2022-02-26\n2     0060    c  2019-11-04\n3     0070    b  2020-01-15\n4     0030    b  2017-06-23\n..     ...  ...         ...\n995   0030    a  2016-02-09\n996   0040    a  2015-01-30\n997   0030    c  2015-10-06\n998   0030    a  2020-09-16\n999   0010    a  2015-12-01\n\n[1000 rows x 3 columns]",
            "text/html": "<div>\n<style scoped>\n    .dataframe tbody tr th:only-of-type {\n        vertical-align: middle;\n    }\n\n    .dataframe tbody tr th {\n        vertical-align: top;\n    }\n\n    .dataframe thead th {\n        text-align: right;\n    }\n</style>\n<table border=\"1\" class=\"dataframe\">\n  <thead>\n    <tr style=\"text-align: right;\">\n      <th></th>\n      <th>branch</th>\n      <th>risk</th>\n      <th>review_date</th>\n    </tr>\n  </thead>\n  <tbody>\n    <tr>\n      <th>0</th>\n      <td>0070</td>\n      <td>a</td>\n      <td>2015-08-14</td>\n    </tr>\n    <tr>\n      <th>1</th>\n      <td>0070</td>\n      <td>b</td>\n      <td>2022-02-26</td>\n    </tr>\n    <tr>\n      <th>2</th>\n      <td>0060</td>\n      <td>c</td>\n      <td>2019-11-04</td>\n    </tr>\n    <tr>\n      <th>3</th>\n      <td>0070</td>\n      <td>b</td>\n      <td>2020-01-15</td>\n    </tr>\n    <tr>\n      <th>4</th>\n      <td>0030</td>\n      <td>b</td>\n      <td>2017-06-23</td>\n    </tr>\n    <tr>\n      <th>...</th>\n      <td>...</td>\n      <td>...</td>\n      <td>...</td>\n    </tr>\n    <tr>\n      <th>995</th>\n      <td>0030</td>\n      <td>a</td>\n      <td>2016-02-09</td>\n    </tr>\n    <tr>\n      <th>996</th>\n      <td>0040</td>\n      <td>a</td>\n      <td>2015-01-30</td>\n    </tr>\n    <tr>\n      <th>997</th>\n      <td>0030</td>\n      <td>c</td>\n      <td>2015-10-06</td>\n    </tr>\n    <tr>\n      <th>998</th>\n      <td>0030</td>\n      <td>a</td>\n      <td>2020-09-16</td>\n    </tr>\n    <tr>\n      <th>999</th>\n      <td>0010</td>\n      <td>a</td>\n      <td>2015-12-01</td>\n    </tr>\n  </tbody>\n</table>\n<p>1000 rows × 3 columns</p>\n</div>"
          },
          "metadata": {}
        }
      ],
      "execution_count": 28
    },
    {
      "id": "0119da54-1ffb-4376-8b22-012af267f00d",
      "cell_type": "code",
      "source": "from dateutil.relativedelta import relativedelta\ndata['years_to_add'] = data['risk'].map({'a': 8, 'b': 5, 'c': 1})\ndata['to_review_date'] = data['review_date'] + data['years_to_add'].apply(lambda x : relativedelta( years = int(x)))\ndata.loc[:,'to_review_date'] = pd.to_datetime(data['to_review_date'])\ndef checkcdd(dates):\n    for date in dates:\n        ref_date = pd.to_datetime(date)\n        fil = data [data['to_review_date'] < ref_date]\n    return fil",
      "metadata": {
        "trusted": true
      },
      "outputs": [],
      "execution_count": 32
    },
    {
      "id": "729d3bf4-b41e-4918-8772-02c303f09758",
      "cell_type": "code",
      "source": "dates = ['2025-07-17','2025-01-01','2024-06-01','2024-01-01']\nsummary = pd.DataFrame()\nmain_piv = pd.DataFrame()\nfor date in dates:\n    ref_date = pd.to_datetime(date)\n    fil = data [data['to_review_date'] < ref_date]\n    piv = fil.pivot_table(index = 'branch',columns = 'risk', values = 'review_date',aggfunc = len,margins = True)\n    piv.columns = [ x + date for x in piv.columns]\n    main_piv[piv.columns] = piv\n    counts = fil.risk.value_counts()\n    summary[date] = counts\nsummary\nmain_piv",
      "metadata": {
        "trusted": true
      },
      "outputs": [
        {
          "execution_count": 70,
          "output_type": "execute_result",
          "data": {
            "text/plain": "        a2025-07-17  b2025-07-17  c2025-07-17  All2025-07-17  a2025-01-01  \\\nbranch                                                                      \n0010              9           39           35             83            9   \n0020              9           21           44             74            7   \n0030             15           34           57            106           11   \n0040             13           30           47             90            8   \n0050             11           30           40             81           10   \n0060             18           25           43             86           15   \n0070             12           16           46             74            7   \nAll              87          195          312            594           67   \n\n        b2025-01-01  c2025-01-01  All2025-01-01  a2024-06-01  b2024-06-01  \\\nbranch                                                                      \n0010             38           29             76            7           35   \n0020             18           44             69            4           17   \n0030             34           50             95            6           30   \n0040             29           44             81            6           27   \n0050             29           38             77            7           26   \n0060             22           40             77           12           16   \n0070             15           44             66            6           15   \nAll             185          289            541           48          166   \n\n        c2024-06-01  All2024-06-01  a2024-01-01  b2024-01-01  c2024-01-01  \\\nbranch                                                                      \n0010             28             70            6           32           28   \n0020             41             62            4           16           39   \n0030             49             85            3           28           46   \n0040             40             73            6           24           39   \n0050             36             69            5           23           33   \n0060             37             65            7           14           36   \n0070             39             60            3           12           37   \nAll             270            484           34          149          258   \n\n        All2024-01-01  \nbranch                 \n0010               66  \n0020               59  \n0030               77  \n0040               69  \n0050               61  \n0060               57  \n0070               52  \nAll               441  ",
            "text/html": "<div>\n<style scoped>\n    .dataframe tbody tr th:only-of-type {\n        vertical-align: middle;\n    }\n\n    .dataframe tbody tr th {\n        vertical-align: top;\n    }\n\n    .dataframe thead th {\n        text-align: right;\n    }\n</style>\n<table border=\"1\" class=\"dataframe\">\n  <thead>\n    <tr style=\"text-align: right;\">\n      <th></th>\n      <th>a2025-07-17</th>\n      <th>b2025-07-17</th>\n      <th>c2025-07-17</th>\n      <th>All2025-07-17</th>\n      <th>a2025-01-01</th>\n      <th>b2025-01-01</th>\n      <th>c2025-01-01</th>\n      <th>All2025-01-01</th>\n      <th>a2024-06-01</th>\n      <th>b2024-06-01</th>\n      <th>c2024-06-01</th>\n      <th>All2024-06-01</th>\n      <th>a2024-01-01</th>\n      <th>b2024-01-01</th>\n      <th>c2024-01-01</th>\n      <th>All2024-01-01</th>\n    </tr>\n    <tr>\n      <th>branch</th>\n      <th></th>\n      <th></th>\n      <th></th>\n      <th></th>\n      <th></th>\n      <th></th>\n      <th></th>\n      <th></th>\n      <th></th>\n      <th></th>\n      <th></th>\n      <th></th>\n      <th></th>\n      <th></th>\n      <th></th>\n      <th></th>\n    </tr>\n  </thead>\n  <tbody>\n    <tr>\n      <th>0010</th>\n      <td>9</td>\n      <td>39</td>\n      <td>35</td>\n      <td>83</td>\n      <td>9</td>\n      <td>38</td>\n      <td>29</td>\n      <td>76</td>\n      <td>7</td>\n      <td>35</td>\n      <td>28</td>\n      <td>70</td>\n      <td>6</td>\n      <td>32</td>\n      <td>28</td>\n      <td>66</td>\n    </tr>\n    <tr>\n      <th>0020</th>\n      <td>9</td>\n      <td>21</td>\n      <td>44</td>\n      <td>74</td>\n      <td>7</td>\n      <td>18</td>\n      <td>44</td>\n      <td>69</td>\n      <td>4</td>\n      <td>17</td>\n      <td>41</td>\n      <td>62</td>\n      <td>4</td>\n      <td>16</td>\n      <td>39</td>\n      <td>59</td>\n    </tr>\n    <tr>\n      <th>0030</th>\n      <td>15</td>\n      <td>34</td>\n      <td>57</td>\n      <td>106</td>\n      <td>11</td>\n      <td>34</td>\n      <td>50</td>\n      <td>95</td>\n      <td>6</td>\n      <td>30</td>\n      <td>49</td>\n      <td>85</td>\n      <td>3</td>\n      <td>28</td>\n      <td>46</td>\n      <td>77</td>\n    </tr>\n    <tr>\n      <th>0040</th>\n      <td>13</td>\n      <td>30</td>\n      <td>47</td>\n      <td>90</td>\n      <td>8</td>\n      <td>29</td>\n      <td>44</td>\n      <td>81</td>\n      <td>6</td>\n      <td>27</td>\n      <td>40</td>\n      <td>73</td>\n      <td>6</td>\n      <td>24</td>\n      <td>39</td>\n      <td>69</td>\n    </tr>\n    <tr>\n      <th>0050</th>\n      <td>11</td>\n      <td>30</td>\n      <td>40</td>\n      <td>81</td>\n      <td>10</td>\n      <td>29</td>\n      <td>38</td>\n      <td>77</td>\n      <td>7</td>\n      <td>26</td>\n      <td>36</td>\n      <td>69</td>\n      <td>5</td>\n      <td>23</td>\n      <td>33</td>\n      <td>61</td>\n    </tr>\n    <tr>\n      <th>0060</th>\n      <td>18</td>\n      <td>25</td>\n      <td>43</td>\n      <td>86</td>\n      <td>15</td>\n      <td>22</td>\n      <td>40</td>\n      <td>77</td>\n      <td>12</td>\n      <td>16</td>\n      <td>37</td>\n      <td>65</td>\n      <td>7</td>\n      <td>14</td>\n      <td>36</td>\n      <td>57</td>\n    </tr>\n    <tr>\n      <th>0070</th>\n      <td>12</td>\n      <td>16</td>\n      <td>46</td>\n      <td>74</td>\n      <td>7</td>\n      <td>15</td>\n      <td>44</td>\n      <td>66</td>\n      <td>6</td>\n      <td>15</td>\n      <td>39</td>\n      <td>60</td>\n      <td>3</td>\n      <td>12</td>\n      <td>37</td>\n      <td>52</td>\n    </tr>\n    <tr>\n      <th>All</th>\n      <td>87</td>\n      <td>195</td>\n      <td>312</td>\n      <td>594</td>\n      <td>67</td>\n      <td>185</td>\n      <td>289</td>\n      <td>541</td>\n      <td>48</td>\n      <td>166</td>\n      <td>270</td>\n      <td>484</td>\n      <td>34</td>\n      <td>149</td>\n      <td>258</td>\n      <td>441</td>\n    </tr>\n  </tbody>\n</table>\n</div>"
          },
          "metadata": {}
        }
      ],
      "execution_count": 70
    },
    {
      "id": "e0268dc3-91fc-4511-a1a6-3d6742a03039",
      "cell_type": "code",
      "source": "data1 = checkcdd('2025-07-17')\ndata1.pivot_table(index = 'branch',columns = 'risk', values = 'review_date',aggfunc = len,margins = True)",
      "metadata": {
        "trusted": true
      },
      "outputs": [
        {
          "execution_count": 30,
          "output_type": "execute_result",
          "data": {
            "text/plain": "risk     a    b    c  All\nbranch                   \n0010     9   39   35   83\n0020     9   21   44   74\n0030    15   34   57  106\n0040    13   30   47   90\n0050    11   30   40   81\n0060    18   25   43   86\n0070    12   16   46   74\nAll     87  195  312  594",
            "text/html": "<div>\n<style scoped>\n    .dataframe tbody tr th:only-of-type {\n        vertical-align: middle;\n    }\n\n    .dataframe tbody tr th {\n        vertical-align: top;\n    }\n\n    .dataframe thead th {\n        text-align: right;\n    }\n</style>\n<table border=\"1\" class=\"dataframe\">\n  <thead>\n    <tr style=\"text-align: right;\">\n      <th>risk</th>\n      <th>a</th>\n      <th>b</th>\n      <th>c</th>\n      <th>All</th>\n    </tr>\n    <tr>\n      <th>branch</th>\n      <th></th>\n      <th></th>\n      <th></th>\n      <th></th>\n    </tr>\n  </thead>\n  <tbody>\n    <tr>\n      <th>0010</th>\n      <td>9</td>\n      <td>39</td>\n      <td>35</td>\n      <td>83</td>\n    </tr>\n    <tr>\n      <th>0020</th>\n      <td>9</td>\n      <td>21</td>\n      <td>44</td>\n      <td>74</td>\n    </tr>\n    <tr>\n      <th>0030</th>\n      <td>15</td>\n      <td>34</td>\n      <td>57</td>\n      <td>106</td>\n    </tr>\n    <tr>\n      <th>0040</th>\n      <td>13</td>\n      <td>30</td>\n      <td>47</td>\n      <td>90</td>\n    </tr>\n    <tr>\n      <th>0050</th>\n      <td>11</td>\n      <td>30</td>\n      <td>40</td>\n      <td>81</td>\n    </tr>\n    <tr>\n      <th>0060</th>\n      <td>18</td>\n      <td>25</td>\n      <td>43</td>\n      <td>86</td>\n    </tr>\n    <tr>\n      <th>0070</th>\n      <td>12</td>\n      <td>16</td>\n      <td>46</td>\n      <td>74</td>\n    </tr>\n    <tr>\n      <th>All</th>\n      <td>87</td>\n      <td>195</td>\n      <td>312</td>\n      <td>594</td>\n    </tr>\n  </tbody>\n</table>\n</div>"
          },
          "metadata": {}
        }
      ],
      "execution_count": 30
    },
    {
      "id": "2c912fe0-796f-4452-ad35-6d32c581d3f2",
      "cell_type": "code",
      "source": "data2 = checkcdd('2025-1-1')\ndata2.pivot_table(index = 'branch',columns = 'risk', values = 'review_date',aggfunc = len,margins = True)",
      "metadata": {
        "trusted": true,
        "scrolled": true
      },
      "outputs": [
        {
          "execution_count": 31,
          "output_type": "execute_result",
          "data": {
            "text/plain": "risk     a    b    c  All\nbranch                   \n0010     9   38   29   76\n0020     7   18   44   69\n0030    11   34   50   95\n0040     8   29   44   81\n0050    10   29   38   77\n0060    15   22   40   77\n0070     7   15   44   66\nAll     67  185  289  541",
            "text/html": "<div>\n<style scoped>\n    .dataframe tbody tr th:only-of-type {\n        vertical-align: middle;\n    }\n\n    .dataframe tbody tr th {\n        vertical-align: top;\n    }\n\n    .dataframe thead th {\n        text-align: right;\n    }\n</style>\n<table border=\"1\" class=\"dataframe\">\n  <thead>\n    <tr style=\"text-align: right;\">\n      <th>risk</th>\n      <th>a</th>\n      <th>b</th>\n      <th>c</th>\n      <th>All</th>\n    </tr>\n    <tr>\n      <th>branch</th>\n      <th></th>\n      <th></th>\n      <th></th>\n      <th></th>\n    </tr>\n  </thead>\n  <tbody>\n    <tr>\n      <th>0010</th>\n      <td>9</td>\n      <td>38</td>\n      <td>29</td>\n      <td>76</td>\n    </tr>\n    <tr>\n      <th>0020</th>\n      <td>7</td>\n      <td>18</td>\n      <td>44</td>\n      <td>69</td>\n    </tr>\n    <tr>\n      <th>0030</th>\n      <td>11</td>\n      <td>34</td>\n      <td>50</td>\n      <td>95</td>\n    </tr>\n    <tr>\n      <th>0040</th>\n      <td>8</td>\n      <td>29</td>\n      <td>44</td>\n      <td>81</td>\n    </tr>\n    <tr>\n      <th>0050</th>\n      <td>10</td>\n      <td>29</td>\n      <td>38</td>\n      <td>77</td>\n    </tr>\n    <tr>\n      <th>0060</th>\n      <td>15</td>\n      <td>22</td>\n      <td>40</td>\n      <td>77</td>\n    </tr>\n    <tr>\n      <th>0070</th>\n      <td>7</td>\n      <td>15</td>\n      <td>44</td>\n      <td>66</td>\n    </tr>\n    <tr>\n      <th>All</th>\n      <td>67</td>\n      <td>185</td>\n      <td>289</td>\n      <td>541</td>\n    </tr>\n  </tbody>\n</table>\n</div>"
          },
          "metadata": {}
        }
      ],
      "execution_count": 31
    },
    {
      "id": "17111d06-0371-47c1-943f-8cd9c32aa766",
      "cell_type": "code",
      "source": "",
      "metadata": {
        "trusted": true
      },
      "outputs": [],
      "execution_count": null
    },
    {
      "id": "b9670d85-ef29-4dfd-b4b5-e76d279c1f1a",
      "cell_type": "markdown",
      "source": "## Next steps 🏃\n\nThis is just a short introduction to JupyterLab and Jupyter Notebooks. See below for some more ways to interact with tools in the Jupyter ecosystem, and its community.\n\n### Other notebooks in this demo\n\nHere are some other notebooks in this demo. Each of the items below corresponds to a file or folder in the **file browser to the left**.\n\n- [**`Lorenz.ipynb`**](Lorenz.ipynb) uses Python to demonstrate interactive visualizations and computations around the [Lorenz system](https://en.wikipedia.org/wiki/Lorenz_system). It shows off basic Python functionality, including more visualizations, data structures, and scientific computing libraries.\n- [**`sqlite.ipynb`**](sqlite.ipynb) demonstrates how an in-browser sqlite kernel to run your own SQL commands from the notebook. It uses the [jupyterlite/xeus-sqlite-kernel](https://github.com/jupyterlite/xeus-sqlite-kernel).\n\n### Other sources of information in Jupyter\n\n- **More on using JupyterLab**: See [the JupyterLab documentation](https://jupyterlab.readthedocs.io/en/stable/) for more thorough information about how to install and use JupyterLab.\n- **More interactive demos**: See [try.jupyter.org](https://try.jupyter.org) for more interactive demos with the Jupyter ecosystem.\n- **Learn more about Jupyter**: See [the Jupyter community documentation](https://docs.jupyter.org) to learn more about the project, its community and tools, and how to get involved.\n- **Join our discussions**: The [Jupyter Community Forum](https://discourse.jupyter.org) is a place where many in the Jupyter community ask questions, help one another, and discuss issues around interactive computing and our ecosystem.",
      "metadata": {
        "jp-MarkdownHeadingCollapsed": true
      }
    }
  ]
}